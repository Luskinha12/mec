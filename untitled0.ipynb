{
  "nbformat": 4,
  "nbformat_minor": 0,
  "metadata": {
    "colab": {
      "provenance": [],
      "include_colab_link": true
    },
    "kernelspec": {
      "name": "python3",
      "display_name": "Python 3"
    },
    "language_info": {
      "name": "python"
    }
  },
  "cells": [
    {
      "cell_type": "markdown",
      "metadata": {
        "id": "view-in-github",
        "colab_type": "text"
      },
      "source": [
        "<a href=\"https://colab.research.google.com/github/Luskinha12/mec/blob/main/untitled0.ipynb\" target=\"_parent\"><img src=\"https://colab.research.google.com/assets/colab-badge.svg\" alt=\"Open In Colab\"/></a>"
      ]
    },
    {
      "cell_type": "markdown",
      "source": [
        "#MEU PRIMEIRO PROGRAMA"
      ],
      "metadata": {
        "id": "CNL2CpDTGnX1"
      }
    },
    {
      "cell_type": "code",
      "source": [],
      "metadata": {
        "id": "2p7VJIpyrMkx"
      },
      "execution_count": null,
      "outputs": []
    },
    {
      "cell_type": "code",
      "source": [],
      "metadata": {
        "id": "qfzruJKSrNFZ"
      },
      "execution_count": null,
      "outputs": []
    },
    {
      "cell_type": "markdown",
      "source": [
        "#Sempre que calcular, informar que estou lidando com n° int ou float\n"
      ],
      "metadata": {
        "id": "58-Vo4bEJJHG"
      }
    },
    {
      "cell_type": "code",
      "execution_count": null,
      "metadata": {
        "colab": {
          "base_uri": "https://localhost:8080/"
        },
        "id": "l9p33RQD_g80",
        "outputId": "d50998f7-e191-4b70-df8d-0ae0e66b3df7"
      },
      "outputs": [
        {
          "output_type": "stream",
          "name": "stdout",
          "text": [
            "<class 'int'>\n",
            "<class 'float'>\n",
            "<class 'float'>\n",
            "5.5\n",
            "<class 'str'>\n",
            "<class 'str'>\n",
            "<class 'str'>\n",
            "23.5\n"
          ]
        }
      ],
      "source": [
        "#Importancia dos tipos de váriaveis\n",
        "a = 2\n",
        "print(type(a))\n",
        "b = 3.5\n",
        "print(type(b))\n",
        "soma = a + b\n",
        "print(type(soma))\n",
        "print(soma)\n",
        "\n",
        "a = '2'\n",
        "print(type(a))\n",
        "b = '3.5'\n",
        "print(type(b))\n",
        "soma = a + b\n",
        "print(type(soma))\n",
        "print(soma)\n"
      ]
    },
    {
      "cell_type": "markdown",
      "source": [
        "#DIVISÃO: Resto ou Quociente"
      ],
      "metadata": {
        "id": "gYuxt5Z2Mom9"
      }
    },
    {
      "cell_type": "code",
      "source": [
        "num = int(input('digite o valor inteiro'))\n",
        "print(type(num))\n",
        "quoc = num // 2\n",
        "resto = num % 2\n",
        "print(quoc)\n",
        "print(resto)\n"
      ],
      "metadata": {
        "colab": {
          "base_uri": "https://localhost:8080/"
        },
        "id": "y2O_OrvaK9pl",
        "outputId": "1aefcc00-12d5-4c6d-9038-b63e7d6b8ba0"
      },
      "execution_count": null,
      "outputs": [
        {
          "output_type": "stream",
          "name": "stdout",
          "text": [
            "digite o valor inteiro87\n",
            "<class 'int'>\n",
            "43\n",
            "1\n"
          ]
        }
      ]
    },
    {
      "cell_type": "markdown",
      "source": [
        "#EXERCÍCIO"
      ],
      "metadata": {
        "id": "EltJTIxfPFxv"
      }
    },
    {
      "cell_type": "code",
      "source": [
        "#CALCULAR A ÁREA DE UM TRIANGULO\n",
        "\n",
        "b = float(input('Digite o valor da base:'))\n",
        "h = float(input('Digite o valor da altura:'))\n",
        "a = b*h / 2\n",
        "\n",
        "#EXIBIR RESULTADO\n",
        "\n",
        "print('O valor da área é',a)"
      ],
      "metadata": {
        "colab": {
          "base_uri": "https://localhost:8080/"
        },
        "id": "VcOUJll0M4VX",
        "outputId": "fd383e4c-639f-4526-c8dc-1a31a913834d"
      },
      "execution_count": null,
      "outputs": [
        {
          "output_type": "stream",
          "name": "stdout",
          "text": [
            "Digite o valor da base:8\n",
            "Digite o valor da altura:4\n",
            "O valor da área é 16.0\n"
          ]
        }
      ]
    },
    {
      "cell_type": "markdown",
      "source": [
        "#VALOR DE POLEGADA PARA mm"
      ],
      "metadata": {
        "id": "PvSOORiR-uxz"
      }
    },
    {
      "cell_type": "code",
      "source": [
        "#Polegada para mm\n",
        "\n",
        "P = float(input('Polegada:'))\n",
        "mm = P*25.4\n",
        "print('O valor de',P,'polegadas é igual a',mm,'mm')\n"
      ],
      "metadata": {
        "colab": {
          "base_uri": "https://localhost:8080/"
        },
        "id": "QQxiCysE-587",
        "outputId": "7ee3cb5b-9837-4d55-aa5e-592204b9eb5e"
      },
      "execution_count": null,
      "outputs": [
        {
          "output_type": "stream",
          "name": "stdout",
          "text": [
            "Polegada:5\n",
            "O valor de 5.0 polegadas é igual a 127.0 mm\n"
          ]
        }
      ]
    },
    {
      "cell_type": "markdown",
      "source": [
        "#EXERCÍCIOS   "
      ],
      "metadata": {
        "id": "2kez1qiXCkSs"
      }
    },
    {
      "cell_type": "code",
      "source": [
        "#EXERCÍCIO 5\n",
        "\n",
        "import math as n\n",
        "r = float(input('Digite o raio da esfera:'))\n",
        "Ve = 4/3*3.14*n.pow(r,3)\n",
        "print('O valor do volume é:',Ve)\n"
      ],
      "metadata": {
        "colab": {
          "base_uri": "https://localhost:8080/"
        },
        "id": "yuUfsiTkCqp7",
        "outputId": "fcf27464-3cbb-4720-e03b-04f1fb6b058e"
      },
      "execution_count": null,
      "outputs": [
        {
          "output_type": "stream",
          "name": "stdout",
          "text": [
            "Digite o raio da esfera:2\n",
            "O valor do volume é: 33.49333333333333\n"
          ]
        }
      ]
    },
    {
      "cell_type": "code",
      "source": [
        "#EXERCÍCIO 6\n",
        "\n",
        "import math as n\n",
        "G = float(input('Grau:'))\n",
        "rad = (n.pi/180)*G\n",
        "print('Para',str(G)+'°, se tem',rad,'rad')\n",
        "\n",
        "print(str(G)+'°')\n"
      ],
      "metadata": {
        "colab": {
          "base_uri": "https://localhost:8080/"
        },
        "id": "p4x7qwvJEyvq",
        "outputId": "5e576b0b-f489-4644-9c4c-cee0494ae19a"
      },
      "execution_count": null,
      "outputs": [
        {
          "output_type": "stream",
          "name": "stdout",
          "text": [
            "Grau:1\n",
            "Para 1.0°, se tem 0.017453292519943295 rad\n",
            "1.0°\n"
          ]
        }
      ]
    },
    {
      "cell_type": "markdown",
      "source": [
        "Para deixar o print junto (sem espaço), usa-se \"str(x)+'resto\"\n"
      ],
      "metadata": {
        "id": "NhCPbQtaKPtu"
      }
    },
    {
      "cell_type": "markdown",
      "source": [
        "EXEMPLO: print('Para',str(G)+'°')"
      ],
      "metadata": {
        "id": "DuTxf7_xLBn4"
      }
    },
    {
      "cell_type": "code",
      "source": [
        "#EXERCÍCIO 7\n",
        "\n",
        "import math as n\n",
        "rad = float(input('Radianos:'))\n",
        "G = 180/(n.pi*rad)\n",
        "print('Para',rad,'rad, se tem',str(G)+'°')"
      ],
      "metadata": {
        "colab": {
          "base_uri": "https://localhost:8080/"
        },
        "id": "S5pzTQZoIMnx",
        "outputId": "99f9be3d-338a-4627-ec75-baa7ad1a2069"
      },
      "execution_count": null,
      "outputs": [
        {
          "output_type": "stream",
          "name": "stdout",
          "text": [
            "Radianos:1\n",
            "Para 1.0 rad, se tem 57.29577951308232°\n"
          ]
        }
      ]
    },
    {
      "cell_type": "code",
      "source": [
        "#EXERCÍCIO 8\n",
        "\n",
        "import math as n\n",
        "rad = float(input('Radianos:'))\n",
        "GR = (2*n.pi*rad)/400\n",
        "print('Para',rad,'rad, se tem',GR,'Grados')"
      ],
      "metadata": {
        "colab": {
          "base_uri": "https://localhost:8080/"
        },
        "id": "UqgpK0rSLLUj",
        "outputId": "5f44254f-c1c4-4db6-8990-168259dfad49"
      },
      "execution_count": null,
      "outputs": [
        {
          "output_type": "stream",
          "name": "stdout",
          "text": [
            "Radianos:2\n",
            "Para 2.0 rad, se tem 0.031415926535897934 Grados\n"
          ]
        }
      ]
    },
    {
      "cell_type": "markdown",
      "source": [
        "#IF, AND e ELSE\n",
        "#EXEMPLOS"
      ],
      "metadata": {
        "id": "NFnvrQ7j3DXJ"
      }
    },
    {
      "cell_type": "code",
      "source": [
        "# VERIFICAR SE É IMPAR OU PAR\n",
        "\n",
        "n = int(input('Digite um número:'))\n",
        "if n % 2 == 0:\n",
        "  print('É par')\n",
        "else:\n",
        "  print('É ímpar')"
      ],
      "metadata": {
        "colab": {
          "base_uri": "https://localhost:8080/"
        },
        "id": "DQC5o8XJCq14",
        "outputId": "7b3281ef-f525-4fe6-a102-7a2116bc515c"
      },
      "execution_count": null,
      "outputs": [
        {
          "output_type": "stream",
          "name": "stdout",
          "text": [
            "Digite um número:9\n",
            "É ímpar\n"
          ]
        }
      ]
    },
    {
      "cell_type": "code",
      "source": [
        "# VALOR DA RAIZ QUADRADA\n",
        "\n",
        "import math as m\n",
        "\n",
        "n = float(input('Digite um número:'))\n",
        "if n >= 0:\n",
        "  print('A raiz quadrada é:',m.sqrt(n))\n",
        "else:\n",
        "  print('Número inválido')"
      ],
      "metadata": {
        "id": "6zEvVjJhDxrZ"
      },
      "execution_count": null,
      "outputs": []
    },
    {
      "cell_type": "code",
      "source": [
        "# EXERCÍCIO 5\n",
        "\n",
        "c = float(input('Comp. da camiseta:'))\n",
        "l = float(input('Larg. da camiseta:'))\n",
        "\n",
        "if c <= 66 and l <= 50:\n",
        "  T = 'PP'\n",
        "if c <= 70 and l <= 54:\n",
        "  T = 'P'\n",
        "if c <= 72 and l <= 56:\n",
        "  T = 'M'\n",
        "if c <= 74 and l <= 58:\n",
        "  T = 'G'\n",
        "if c <= 76 and l <= 60:\n",
        "  T = 'GG'\n",
        "if c <= 79 and l <= 63:\n",
        "  T = 'XGG'\n",
        "print('Tamanho:',T)"
      ],
      "metadata": {
        "id": "9MHQK5ZOEWRB"
      },
      "execution_count": null,
      "outputs": []
    },
    {
      "cell_type": "markdown",
      "source": [
        "# EXERCÍCIOS COMPLEMENTARES"
      ],
      "metadata": {
        "id": "EEOZIaNXPRiS"
      }
    },
    {
      "cell_type": "code",
      "source": [
        "# EXERCÍCIOS COMPLEMENTARES - AULA 2 - EXERCÍCIO 1\n",
        "\n",
        "x = int(input('Digite o valor de x:'))\n",
        "\n",
        "if x %3 == 0:\n",
        "  print('É divisível por 3')\n",
        "else:\n",
        "  print('Não é divisível por 3')\n"
      ],
      "metadata": {
        "colab": {
          "base_uri": "https://localhost:8080/"
        },
        "id": "nj5FX7dqMi2Q",
        "outputId": "25139aea-957f-4358-d73d-f59f1048c4d2"
      },
      "execution_count": null,
      "outputs": [
        {
          "output_type": "stream",
          "name": "stdout",
          "text": [
            "Digite o valor de x:4\n",
            "Não é divisível por 3\n"
          ]
        }
      ]
    },
    {
      "cell_type": "code",
      "source": [
        "# EXERCÍCIO 2\n",
        "\n",
        "a = float(input('Digite o valor da nota 1:'))\n",
        "b = float(input('Digite o valor da nota 2:'))\n",
        "\n",
        "M = (a*2 + b*3) / (2+3)\n",
        "if M >= 5:\n",
        "  print('APROVADO: Média =',M)\n",
        "else:\n",
        "  print('REPROVADO: Média =',M)"
      ],
      "metadata": {
        "colab": {
          "base_uri": "https://localhost:8080/"
        },
        "id": "05PmiQgRNOfc",
        "outputId": "860a3c39-f7fa-4b23-bf06-167bcfdcc0ea"
      },
      "execution_count": null,
      "outputs": [
        {
          "output_type": "stream",
          "name": "stdout",
          "text": [
            "Digite o valor da nota 1:7\n",
            "Digite o valor da nota 2:9\n",
            "APROVADO: Média = 8.2\n"
          ]
        }
      ]
    },
    {
      "cell_type": "code",
      "source": [
        "#EXERCÍCIO 3\n",
        "\n",
        "a = float(input('Digite o valor de a:'))\n",
        "b = float(input('Digite o valor de b:'))\n",
        "c = float(input('Digite o valor de c:'))\n",
        "\n",
        "if a <= b and a <= c:\n",
        "  print('O menor número é',a)\n",
        "if b <= a and b <= c:\n",
        "  print('O menor número é',b)\n",
        "if c <= a and c <= b:\n",
        "  print('O menor número é',c)\n"
      ],
      "metadata": {
        "colab": {
          "base_uri": "https://localhost:8080/"
        },
        "id": "wMuxAWvhOVLL",
        "outputId": "2958aa86-2c90-4571-db03-f39720352c54"
      },
      "execution_count": null,
      "outputs": [
        {
          "output_type": "stream",
          "name": "stdout",
          "text": [
            "Digite o valor de a:27\n",
            "Digite o valor de b:49\n",
            "Digite o valor de c:82\n",
            "O menor número é 27.0\n"
          ]
        }
      ]
    },
    {
      "cell_type": "markdown",
      "source": [
        "# Loop FOR"
      ],
      "metadata": {
        "id": "T6m9vx7TWYwp"
      }
    },
    {
      "cell_type": "code",
      "source": [
        "# CONTAGEM DE 1 Á 5 E EXIBIÇÃO DOS VALORES\n",
        "# for VARIÁVEL in range(início, termino, passo)\n",
        "for i in range(1,6):\n",
        "  print(i)"
      ],
      "metadata": {
        "id": "Hf0WnK3LWb0a",
        "outputId": "82b4ac35-716e-4366-9f35-316644c24f2b",
        "colab": {
          "base_uri": "https://localhost:8080/"
        }
      },
      "execution_count": null,
      "outputs": [
        {
          "output_type": "stream",
          "name": "stdout",
          "text": [
            "1\n",
            "2\n",
            "3\n",
            "4\n",
            "5\n"
          ]
        }
      ]
    },
    {
      "cell_type": "markdown",
      "source": [
        "\n",
        "\n",
        "#DATA FRAME\n",
        "\n"
      ],
      "metadata": {
        "id": "huRXc3glfU2z"
      }
    },
    {
      "cell_type": "code",
      "source": [
        "Tabela = {'Nome': ['Alice','Bob','Carl'],'Idade':[19,21,18]}\n",
        "Tabela\n"
      ],
      "metadata": {
        "colab": {
          "base_uri": "https://localhost:8080/"
        },
        "id": "6a7Rh1yhgg_S",
        "outputId": "4fcd4365-078a-4503-8840-5ac71091d409"
      },
      "execution_count": null,
      "outputs": [
        {
          "output_type": "execute_result",
          "data": {
            "text/plain": [
              "{'Nome': ['Alice', 'Bob', 'Carl'], 'Idade': [19, 21, 18]}"
            ]
          },
          "metadata": {},
          "execution_count": 6
        }
      ]
    },
    {
      "cell_type": "code",
      "source": [
        "import pandas as pd\n",
        "df = pd.DataFrame(Tabela)\n",
        "df"
      ],
      "metadata": {
        "colab": {
          "base_uri": "https://localhost:8080/",
          "height": 143
        },
        "id": "SxXQvCyyh2Nk",
        "outputId": "27d6e413-3e3e-43fc-8479-8e1562c3d333"
      },
      "execution_count": null,
      "outputs": [
        {
          "output_type": "execute_result",
          "data": {
            "text/plain": [
              "    Nome  Idade\n",
              "0  Alice     19\n",
              "1    Bob     21\n",
              "2   Carl     18"
            ],
            "text/html": [
              "\n",
              "  <div id=\"df-7430fc33-1cbc-4cb4-9df1-7e0d358b3769\" class=\"colab-df-container\">\n",
              "    <div>\n",
              "<style scoped>\n",
              "    .dataframe tbody tr th:only-of-type {\n",
              "        vertical-align: middle;\n",
              "    }\n",
              "\n",
              "    .dataframe tbody tr th {\n",
              "        vertical-align: top;\n",
              "    }\n",
              "\n",
              "    .dataframe thead th {\n",
              "        text-align: right;\n",
              "    }\n",
              "</style>\n",
              "<table border=\"1\" class=\"dataframe\">\n",
              "  <thead>\n",
              "    <tr style=\"text-align: right;\">\n",
              "      <th></th>\n",
              "      <th>Nome</th>\n",
              "      <th>Idade</th>\n",
              "    </tr>\n",
              "  </thead>\n",
              "  <tbody>\n",
              "    <tr>\n",
              "      <th>0</th>\n",
              "      <td>Alice</td>\n",
              "      <td>19</td>\n",
              "    </tr>\n",
              "    <tr>\n",
              "      <th>1</th>\n",
              "      <td>Bob</td>\n",
              "      <td>21</td>\n",
              "    </tr>\n",
              "    <tr>\n",
              "      <th>2</th>\n",
              "      <td>Carl</td>\n",
              "      <td>18</td>\n",
              "    </tr>\n",
              "  </tbody>\n",
              "</table>\n",
              "</div>\n",
              "    <div class=\"colab-df-buttons\">\n",
              "\n",
              "  <div class=\"colab-df-container\">\n",
              "    <button class=\"colab-df-convert\" onclick=\"convertToInteractive('df-7430fc33-1cbc-4cb4-9df1-7e0d358b3769')\"\n",
              "            title=\"Convert this dataframe to an interactive table.\"\n",
              "            style=\"display:none;\">\n",
              "\n",
              "  <svg xmlns=\"http://www.w3.org/2000/svg\" height=\"24px\" viewBox=\"0 -960 960 960\">\n",
              "    <path d=\"M120-120v-720h720v720H120Zm60-500h600v-160H180v160Zm220 220h160v-160H400v160Zm0 220h160v-160H400v160ZM180-400h160v-160H180v160Zm440 0h160v-160H620v160ZM180-180h160v-160H180v160Zm440 0h160v-160H620v160Z\"/>\n",
              "  </svg>\n",
              "    </button>\n",
              "\n",
              "  <style>\n",
              "    .colab-df-container {\n",
              "      display:flex;\n",
              "      gap: 12px;\n",
              "    }\n",
              "\n",
              "    .colab-df-convert {\n",
              "      background-color: #E8F0FE;\n",
              "      border: none;\n",
              "      border-radius: 50%;\n",
              "      cursor: pointer;\n",
              "      display: none;\n",
              "      fill: #1967D2;\n",
              "      height: 32px;\n",
              "      padding: 0 0 0 0;\n",
              "      width: 32px;\n",
              "    }\n",
              "\n",
              "    .colab-df-convert:hover {\n",
              "      background-color: #E2EBFA;\n",
              "      box-shadow: 0px 1px 2px rgba(60, 64, 67, 0.3), 0px 1px 3px 1px rgba(60, 64, 67, 0.15);\n",
              "      fill: #174EA6;\n",
              "    }\n",
              "\n",
              "    .colab-df-buttons div {\n",
              "      margin-bottom: 4px;\n",
              "    }\n",
              "\n",
              "    [theme=dark] .colab-df-convert {\n",
              "      background-color: #3B4455;\n",
              "      fill: #D2E3FC;\n",
              "    }\n",
              "\n",
              "    [theme=dark] .colab-df-convert:hover {\n",
              "      background-color: #434B5C;\n",
              "      box-shadow: 0px 1px 3px 1px rgba(0, 0, 0, 0.15);\n",
              "      filter: drop-shadow(0px 1px 2px rgba(0, 0, 0, 0.3));\n",
              "      fill: #FFFFFF;\n",
              "    }\n",
              "  </style>\n",
              "\n",
              "    <script>\n",
              "      const buttonEl =\n",
              "        document.querySelector('#df-7430fc33-1cbc-4cb4-9df1-7e0d358b3769 button.colab-df-convert');\n",
              "      buttonEl.style.display =\n",
              "        google.colab.kernel.accessAllowed ? 'block' : 'none';\n",
              "\n",
              "      async function convertToInteractive(key) {\n",
              "        const element = document.querySelector('#df-7430fc33-1cbc-4cb4-9df1-7e0d358b3769');\n",
              "        const dataTable =\n",
              "          await google.colab.kernel.invokeFunction('convertToInteractive',\n",
              "                                                    [key], {});\n",
              "        if (!dataTable) return;\n",
              "\n",
              "        const docLinkHtml = 'Like what you see? Visit the ' +\n",
              "          '<a target=\"_blank\" href=https://colab.research.google.com/notebooks/data_table.ipynb>data table notebook</a>'\n",
              "          + ' to learn more about interactive tables.';\n",
              "        element.innerHTML = '';\n",
              "        dataTable['output_type'] = 'display_data';\n",
              "        await google.colab.output.renderOutput(dataTable, element);\n",
              "        const docLink = document.createElement('div');\n",
              "        docLink.innerHTML = docLinkHtml;\n",
              "        element.appendChild(docLink);\n",
              "      }\n",
              "    </script>\n",
              "  </div>\n",
              "\n",
              "\n",
              "<div id=\"df-33582e13-89a1-45ce-b19d-1ae410730e95\">\n",
              "  <button class=\"colab-df-quickchart\" onclick=\"quickchart('df-33582e13-89a1-45ce-b19d-1ae410730e95')\"\n",
              "            title=\"Suggest charts\"\n",
              "            style=\"display:none;\">\n",
              "\n",
              "<svg xmlns=\"http://www.w3.org/2000/svg\" height=\"24px\"viewBox=\"0 0 24 24\"\n",
              "     width=\"24px\">\n",
              "    <g>\n",
              "        <path d=\"M19 3H5c-1.1 0-2 .9-2 2v14c0 1.1.9 2 2 2h14c1.1 0 2-.9 2-2V5c0-1.1-.9-2-2-2zM9 17H7v-7h2v7zm4 0h-2V7h2v10zm4 0h-2v-4h2v4z\"/>\n",
              "    </g>\n",
              "</svg>\n",
              "  </button>\n",
              "\n",
              "<style>\n",
              "  .colab-df-quickchart {\n",
              "      --bg-color: #E8F0FE;\n",
              "      --fill-color: #1967D2;\n",
              "      --hover-bg-color: #E2EBFA;\n",
              "      --hover-fill-color: #174EA6;\n",
              "      --disabled-fill-color: #AAA;\n",
              "      --disabled-bg-color: #DDD;\n",
              "  }\n",
              "\n",
              "  [theme=dark] .colab-df-quickchart {\n",
              "      --bg-color: #3B4455;\n",
              "      --fill-color: #D2E3FC;\n",
              "      --hover-bg-color: #434B5C;\n",
              "      --hover-fill-color: #FFFFFF;\n",
              "      --disabled-bg-color: #3B4455;\n",
              "      --disabled-fill-color: #666;\n",
              "  }\n",
              "\n",
              "  .colab-df-quickchart {\n",
              "    background-color: var(--bg-color);\n",
              "    border: none;\n",
              "    border-radius: 50%;\n",
              "    cursor: pointer;\n",
              "    display: none;\n",
              "    fill: var(--fill-color);\n",
              "    height: 32px;\n",
              "    padding: 0;\n",
              "    width: 32px;\n",
              "  }\n",
              "\n",
              "  .colab-df-quickchart:hover {\n",
              "    background-color: var(--hover-bg-color);\n",
              "    box-shadow: 0 1px 2px rgba(60, 64, 67, 0.3), 0 1px 3px 1px rgba(60, 64, 67, 0.15);\n",
              "    fill: var(--button-hover-fill-color);\n",
              "  }\n",
              "\n",
              "  .colab-df-quickchart-complete:disabled,\n",
              "  .colab-df-quickchart-complete:disabled:hover {\n",
              "    background-color: var(--disabled-bg-color);\n",
              "    fill: var(--disabled-fill-color);\n",
              "    box-shadow: none;\n",
              "  }\n",
              "\n",
              "  .colab-df-spinner {\n",
              "    border: 2px solid var(--fill-color);\n",
              "    border-color: transparent;\n",
              "    border-bottom-color: var(--fill-color);\n",
              "    animation:\n",
              "      spin 1s steps(1) infinite;\n",
              "  }\n",
              "\n",
              "  @keyframes spin {\n",
              "    0% {\n",
              "      border-color: transparent;\n",
              "      border-bottom-color: var(--fill-color);\n",
              "      border-left-color: var(--fill-color);\n",
              "    }\n",
              "    20% {\n",
              "      border-color: transparent;\n",
              "      border-left-color: var(--fill-color);\n",
              "      border-top-color: var(--fill-color);\n",
              "    }\n",
              "    30% {\n",
              "      border-color: transparent;\n",
              "      border-left-color: var(--fill-color);\n",
              "      border-top-color: var(--fill-color);\n",
              "      border-right-color: var(--fill-color);\n",
              "    }\n",
              "    40% {\n",
              "      border-color: transparent;\n",
              "      border-right-color: var(--fill-color);\n",
              "      border-top-color: var(--fill-color);\n",
              "    }\n",
              "    60% {\n",
              "      border-color: transparent;\n",
              "      border-right-color: var(--fill-color);\n",
              "    }\n",
              "    80% {\n",
              "      border-color: transparent;\n",
              "      border-right-color: var(--fill-color);\n",
              "      border-bottom-color: var(--fill-color);\n",
              "    }\n",
              "    90% {\n",
              "      border-color: transparent;\n",
              "      border-bottom-color: var(--fill-color);\n",
              "    }\n",
              "  }\n",
              "</style>\n",
              "\n",
              "  <script>\n",
              "    async function quickchart(key) {\n",
              "      const quickchartButtonEl =\n",
              "        document.querySelector('#' + key + ' button');\n",
              "      quickchartButtonEl.disabled = true;  // To prevent multiple clicks.\n",
              "      quickchartButtonEl.classList.add('colab-df-spinner');\n",
              "      try {\n",
              "        const charts = await google.colab.kernel.invokeFunction(\n",
              "            'suggestCharts', [key], {});\n",
              "      } catch (error) {\n",
              "        console.error('Error during call to suggestCharts:', error);\n",
              "      }\n",
              "      quickchartButtonEl.classList.remove('colab-df-spinner');\n",
              "      quickchartButtonEl.classList.add('colab-df-quickchart-complete');\n",
              "    }\n",
              "    (() => {\n",
              "      let quickchartButtonEl =\n",
              "        document.querySelector('#df-33582e13-89a1-45ce-b19d-1ae410730e95 button');\n",
              "      quickchartButtonEl.style.display =\n",
              "        google.colab.kernel.accessAllowed ? 'block' : 'none';\n",
              "    })();\n",
              "  </script>\n",
              "</div>\n",
              "\n",
              "  <div id=\"id_10940db7-f9ab-4d20-881c-20a6a0066ea1\">\n",
              "    <style>\n",
              "      .colab-df-generate {\n",
              "        background-color: #E8F0FE;\n",
              "        border: none;\n",
              "        border-radius: 50%;\n",
              "        cursor: pointer;\n",
              "        display: none;\n",
              "        fill: #1967D2;\n",
              "        height: 32px;\n",
              "        padding: 0 0 0 0;\n",
              "        width: 32px;\n",
              "      }\n",
              "\n",
              "      .colab-df-generate:hover {\n",
              "        background-color: #E2EBFA;\n",
              "        box-shadow: 0px 1px 2px rgba(60, 64, 67, 0.3), 0px 1px 3px 1px rgba(60, 64, 67, 0.15);\n",
              "        fill: #174EA6;\n",
              "      }\n",
              "\n",
              "      [theme=dark] .colab-df-generate {\n",
              "        background-color: #3B4455;\n",
              "        fill: #D2E3FC;\n",
              "      }\n",
              "\n",
              "      [theme=dark] .colab-df-generate:hover {\n",
              "        background-color: #434B5C;\n",
              "        box-shadow: 0px 1px 3px 1px rgba(0, 0, 0, 0.15);\n",
              "        filter: drop-shadow(0px 1px 2px rgba(0, 0, 0, 0.3));\n",
              "        fill: #FFFFFF;\n",
              "      }\n",
              "    </style>\n",
              "    <button class=\"colab-df-generate\" onclick=\"generateWithVariable('df')\"\n",
              "            title=\"Generate code using this dataframe.\"\n",
              "            style=\"display:none;\">\n",
              "\n",
              "  <svg xmlns=\"http://www.w3.org/2000/svg\" height=\"24px\"viewBox=\"0 0 24 24\"\n",
              "       width=\"24px\">\n",
              "    <path d=\"M7,19H8.4L18.45,9,17,7.55,7,17.6ZM5,21V16.75L18.45,3.32a2,2,0,0,1,2.83,0l1.4,1.43a1.91,1.91,0,0,1,.58,1.4,1.91,1.91,0,0,1-.58,1.4L9.25,21ZM18.45,9,17,7.55Zm-12,3A5.31,5.31,0,0,0,4.9,8.1,5.31,5.31,0,0,0,1,6.5,5.31,5.31,0,0,0,4.9,4.9,5.31,5.31,0,0,0,6.5,1,5.31,5.31,0,0,0,8.1,4.9,5.31,5.31,0,0,0,12,6.5,5.46,5.46,0,0,0,6.5,12Z\"/>\n",
              "  </svg>\n",
              "    </button>\n",
              "    <script>\n",
              "      (() => {\n",
              "      const buttonEl =\n",
              "        document.querySelector('#id_10940db7-f9ab-4d20-881c-20a6a0066ea1 button.colab-df-generate');\n",
              "      buttonEl.style.display =\n",
              "        google.colab.kernel.accessAllowed ? 'block' : 'none';\n",
              "\n",
              "      buttonEl.onclick = () => {\n",
              "        google.colab.notebook.generateWithVariable('df');\n",
              "      }\n",
              "      })();\n",
              "    </script>\n",
              "  </div>\n",
              "\n",
              "    </div>\n",
              "  </div>\n"
            ],
            "application/vnd.google.colaboratory.intrinsic+json": {
              "type": "dataframe",
              "variable_name": "df",
              "summary": "{\n  \"name\": \"df\",\n  \"rows\": 3,\n  \"fields\": [\n    {\n      \"column\": \"Nome\",\n      \"properties\": {\n        \"dtype\": \"string\",\n        \"num_unique_values\": 3,\n        \"samples\": [\n          \"Alice\",\n          \"Bob\",\n          \"Carl\"\n        ],\n        \"semantic_type\": \"\",\n        \"description\": \"\"\n      }\n    },\n    {\n      \"column\": \"Idade\",\n      \"properties\": {\n        \"dtype\": \"number\",\n        \"std\": 1,\n        \"min\": 18,\n        \"max\": 21,\n        \"num_unique_values\": 3,\n        \"samples\": [\n          19,\n          21,\n          18\n        ],\n        \"semantic_type\": \"\",\n        \"description\": \"\"\n      }\n    }\n  ]\n}"
            }
          },
          "metadata": {},
          "execution_count": 7
        }
      ]
    },
    {
      "cell_type": "code",
      "source": [
        "df['Nome'][2]"
      ],
      "metadata": {
        "colab": {
          "base_uri": "https://localhost:8080/",
          "height": 35
        },
        "id": "KRt250S-iWdw",
        "outputId": "ea0f2f8f-c695-4ebf-e077-af5cb81d1960"
      },
      "execution_count": null,
      "outputs": [
        {
          "output_type": "execute_result",
          "data": {
            "text/plain": [
              "'Carl'"
            ],
            "application/vnd.google.colaboratory.intrinsic+json": {
              "type": "string"
            }
          },
          "metadata": {},
          "execution_count": 9
        }
      ]
    },
    {
      "cell_type": "code",
      "source": [],
      "metadata": {
        "id": "TmPOkfzMnBGW"
      },
      "execution_count": null,
      "outputs": []
    }
  ]
}