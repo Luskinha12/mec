{
  "nbformat": 4,
  "nbformat_minor": 0,
  "metadata": {
    "colab": {
      "provenance": [],
      "authorship_tag": "ABX9TyOvxBmsz2SPJ2knJwtbbMsp",
      "include_colab_link": true
    },
    "kernelspec": {
      "name": "python3",
      "display_name": "Python 3"
    },
    "language_info": {
      "name": "python"
    }
  },
  "cells": [
    {
      "cell_type": "markdown",
      "metadata": {
        "id": "view-in-github",
        "colab_type": "text"
      },
      "source": [
        "<a href=\"https://colab.research.google.com/github/Luskinha12/mec/blob/main/trab.ipynb\" target=\"_parent\"><img src=\"https://colab.research.google.com/assets/colab-badge.svg\" alt=\"Open In Colab\"/></a>"
      ]
    },
    {
      "cell_type": "markdown",
      "source": [
        "# TRABALHO"
      ],
      "metadata": {
        "id": "drqjn7GInfWa"
      }
    },
    {
      "cell_type": "code",
      "source": [
        "gere um programa onde colocam os Dados para o gerenciamento de maquinas com tabelas e graficos"
      ],
      "metadata": {
        "colab": {
          "base_uri": "https://localhost:8080/",
          "height": 106
        },
        "id": "j0oSsayWnmgz",
        "outputId": "0acf4c1d-101f-47bc-ba40-29bfd5a4f8ff"
      },
      "execution_count": 4,
      "outputs": [
        {
          "output_type": "error",
          "ename": "SyntaxError",
          "evalue": "invalid syntax (<ipython-input-4-fda7c95f3b48>, line 1)",
          "traceback": [
            "\u001b[0;36m  File \u001b[0;32m\"<ipython-input-4-fda7c95f3b48>\"\u001b[0;36m, line \u001b[0;32m1\u001b[0m\n\u001b[0;31m    gere um programa onde colocam os Dados para o gerenciamento de maquinas com tabelas e graficos\u001b[0m\n\u001b[0m         ^\u001b[0m\n\u001b[0;31mSyntaxError\u001b[0m\u001b[0;31m:\u001b[0m invalid syntax\n"
          ]
        }
      ]
    }
  ]
}