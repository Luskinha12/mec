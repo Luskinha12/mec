{
  "nbformat": 4,
  "nbformat_minor": 0,
  "metadata": {
    "colab": {
      "provenance": [],
      "toc_visible": true,
      "include_colab_link": true
    },
    "kernelspec": {
      "name": "python3",
      "display_name": "Python 3"
    },
    "language_info": {
      "name": "python"
    }
  },
  "cells": [
    {
      "cell_type": "markdown",
      "metadata": {
        "id": "view-in-github",
        "colab_type": "text"
      },
      "source": [
        "<a href=\"https://colab.research.google.com/github/Luskinha12/mec/blob/main/Untitled0.ipynb\" target=\"_parent\"><img src=\"https://colab.research.google.com/assets/colab-badge.svg\" alt=\"Open In Colab\"/></a>"
      ]
    },
    {
      "cell_type": "markdown",
      "source": [
        "#MEU PRIMEIRO PROGRAMA"
      ],
      "metadata": {
        "id": "CNL2CpDTGnX1"
      }
    },
    {
      "cell_type": "markdown",
      "source": [
        "#Sempre que calcular, informar que estou lidando com n° int ou float\n"
      ],
      "metadata": {
        "id": "58-Vo4bEJJHG"
      }
    },
    {
      "cell_type": "code",
      "execution_count": null,
      "metadata": {
        "colab": {
          "base_uri": "https://localhost:8080/"
        },
        "id": "l9p33RQD_g80",
        "outputId": "d50998f7-e191-4b70-df8d-0ae0e66b3df7"
      },
      "outputs": [
        {
          "output_type": "stream",
          "name": "stdout",
          "text": [
            "<class 'int'>\n",
            "<class 'float'>\n",
            "<class 'float'>\n",
            "5.5\n",
            "<class 'str'>\n",
            "<class 'str'>\n",
            "<class 'str'>\n",
            "23.5\n"
          ]
        }
      ],
      "source": [
        "#Importancia dos tipos de váriaveis\n",
        "a = 2\n",
        "print(type(a))\n",
        "b = 3.5\n",
        "print(type(b))\n",
        "soma = a + b\n",
        "print(type(soma))\n",
        "print(soma)\n",
        "\n",
        "a = '2'\n",
        "print(type(a))\n",
        "b = '3.5'\n",
        "print(type(b))\n",
        "soma = a + b\n",
        "print(type(soma))\n",
        "print(soma)\n"
      ]
    },
    {
      "cell_type": "markdown",
      "source": [
        "#DIVISÃO: Resto ou Quociente"
      ],
      "metadata": {
        "id": "gYuxt5Z2Mom9"
      }
    },
    {
      "cell_type": "code",
      "source": [
        "num = int(input('digite o valor inteiro'))\n",
        "print(type(num))\n",
        "quoc = num // 2\n",
        "resto = num % 2\n",
        "print(quoc)\n",
        "print(resto)\n"
      ],
      "metadata": {
        "colab": {
          "base_uri": "https://localhost:8080/"
        },
        "id": "y2O_OrvaK9pl",
        "outputId": "1aefcc00-12d5-4c6d-9038-b63e7d6b8ba0"
      },
      "execution_count": null,
      "outputs": [
        {
          "output_type": "stream",
          "name": "stdout",
          "text": [
            "digite o valor inteiro87\n",
            "<class 'int'>\n",
            "43\n",
            "1\n"
          ]
        }
      ]
    },
    {
      "cell_type": "markdown",
      "source": [
        "#EXERCÍCIO"
      ],
      "metadata": {
        "id": "EltJTIxfPFxv"
      }
    },
    {
      "cell_type": "code",
      "source": [
        "#CALCULAR A ÁREA DE UM TRIANGULO\n",
        "\n",
        "b = float(input('Digite o valor da base:'))\n",
        "h = float(input('Digite o valor da altura:'))\n",
        "a = b*h / 2\n",
        "\n",
        "#EXIBIR RESULTADO\n",
        "\n",
        "print('O valor da área é',a)"
      ],
      "metadata": {
        "colab": {
          "base_uri": "https://localhost:8080/"
        },
        "id": "VcOUJll0M4VX",
        "outputId": "fd383e4c-639f-4526-c8dc-1a31a913834d"
      },
      "execution_count": null,
      "outputs": [
        {
          "output_type": "stream",
          "name": "stdout",
          "text": [
            "Digite o valor da base:8\n",
            "Digite o valor da altura:4\n",
            "O valor da área é 16.0\n"
          ]
        }
      ]
    },
    {
      "cell_type": "markdown",
      "source": [
        "#IF e ELSE\n",
        "Resto = num % 2"
      ],
      "metadata": {
        "id": "0xboSzLeIbDT"
      }
    },
    {
      "cell_type": "code",
      "source": [
        "#PROGRAMAR IMPAR OU PAR\n",
        "\n",
        "#Solicita numero\n",
        "numero = int(input('Digite um numero inteiro:'))\n",
        "\n",
        "#Verifica se o numero é par ou ímpar\n",
        "if numero %2 == 0:\n",
        "  print(f'O numero {numero} é par.')\n",
        "else:\n",
        "  print(f'O numero {numero} é ímpar.')"
      ],
      "metadata": {
        "id": "iq0HCHzjIiYC",
        "outputId": "adb6889f-2540-428f-97f9-b8ffc91c6319",
        "colab": {
          "base_uri": "https://localhost:8080/"
        }
      },
      "execution_count": 2,
      "outputs": [
        {
          "output_type": "stream",
          "name": "stdout",
          "text": [
            "Digite um numero inteiro:64\n",
            "O numero 64 é par.\n"
          ]
        }
      ]
    },
    {
      "cell_type": "code",
      "source": [
        "#RAIZ QUADRADA\n",
        "\n",
        "import math as m\n",
        "\n",
        "n = (float(input('Digite um numero:')))\n",
        "\n",
        "if n >=0:\n",
        "  r = m.sqrt(n)\n",
        "  print(f'A raiz quadrada de {n} é: {r:.2f}')\n",
        "else:\n",
        "  print('NÃO EXISTE RAIZ QUADRADA PARA O VALOR INFORMADO')\n"
      ],
      "metadata": {
        "id": "HRFeKvQ-LKNT",
        "outputId": "bf4b036b-2e35-450f-efc9-d4b7e16ac7ed",
        "colab": {
          "base_uri": "https://localhost:8080/"
        }
      },
      "execution_count": 8,
      "outputs": [
        {
          "output_type": "stream",
          "name": "stdout",
          "text": [
            "Digite um numero:-25\n",
            "NÃO EXISTE RAIZ QUADRADA PARA O VALOR INFORMADO\n"
          ]
        }
      ]
    },
    {
      "cell_type": "markdown",
      "source": [
        "#EXERCÍCIOS"
      ],
      "metadata": {
        "id": "KZpM6oHzONE1"
      }
    },
    {
      "cell_type": "code",
      "source": [
        "#EXERCÍCIO 5\n",
        "\n",
        "comp = float(input('Comprimento da Camiseta:'))\n",
        "larg = float(input('Largura da Camiseta:'))\n",
        "\n",
        "if comp <= 66 and larg <= 50:\n",
        "  T = 'PP'\n",
        "if comp <= 70 and larg <= 54:\n",
        "  T = 'P'\n",
        "if comp <= 72 and lag <= 56:\n",
        "  T = 'M'\n",
        "if comp <= 74 and larg <= 58:\n",
        "  T = 'G'\n",
        "if comp <= 76 and larg <= 60:\n",
        "  T = 'GG'\n",
        "if comp <= 79 and larg <= 63:\n",
        "  T = 'XGG'\n",
        "print(f'A camiseta é do tamanho {T}')\n"
      ],
      "metadata": {
        "id": "4frjejv_OPwL",
        "outputId": "57dfaf31-3b81-4539-c1bb-d3f39b7e1d4e",
        "colab": {
          "base_uri": "https://localhost:8080/"
        }
      },
      "execution_count": 12,
      "outputs": [
        {
          "output_type": "stream",
          "name": "stdout",
          "text": [
            "Comprimento da Camiseta:79\n",
            "Largura da Camiseta:50\n",
            "A camiseta é do tamanho XGG\n"
          ]
        }
      ]
    }
  ]
}