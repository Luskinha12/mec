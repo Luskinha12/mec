{
  "nbformat": 4,
  "nbformat_minor": 0,
  "metadata": {
    "colab": {
      "provenance": [],
      "include_colab_link": true
    },
    "kernelspec": {
      "name": "python3",
      "display_name": "Python 3"
    },
    "language_info": {
      "name": "python"
    }
  },
  "cells": [
    {
      "cell_type": "markdown",
      "metadata": {
        "id": "view-in-github",
        "colab_type": "text"
      },
      "source": [
        "<a href=\"https://colab.research.google.com/github/Luskinha12/mec/blob/main/Untitled0.ipynb\" target=\"_parent\"><img src=\"https://colab.research.google.com/assets/colab-badge.svg\" alt=\"Open In Colab\"/></a>"
      ]
    },
    {
      "cell_type": "markdown",
      "source": [
        "#MEU PRIMEIRO PROGRAMA"
      ],
      "metadata": {
        "id": "CNL2CpDTGnX1"
      }
    },
    {
      "cell_type": "markdown",
      "source": [
        "#Sempre que calcular, informar que estou lidando com n° int ou float\n"
      ],
      "metadata": {
        "id": "58-Vo4bEJJHG"
      }
    },
    {
      "cell_type": "code",
      "execution_count": null,
      "metadata": {
        "colab": {
          "base_uri": "https://localhost:8080/"
        },
        "id": "l9p33RQD_g80",
        "outputId": "d50998f7-e191-4b70-df8d-0ae0e66b3df7"
      },
      "outputs": [
        {
          "output_type": "stream",
          "name": "stdout",
          "text": [
            "<class 'int'>\n",
            "<class 'float'>\n",
            "<class 'float'>\n",
            "5.5\n",
            "<class 'str'>\n",
            "<class 'str'>\n",
            "<class 'str'>\n",
            "23.5\n"
          ]
        }
      ],
      "source": [
        "#Importancia dos tipos de váriaveis\n",
        "a = 2\n",
        "print(type(a))\n",
        "b = 3.5\n",
        "print(type(b))\n",
        "soma = a + b\n",
        "print(type(soma))\n",
        "print(soma)\n",
        "\n",
        "a = '2'\n",
        "print(type(a))\n",
        "b = '3.5'\n",
        "print(type(b))\n",
        "soma = a + b\n",
        "print(type(soma))\n",
        "print(soma)\n"
      ]
    },
    {
      "cell_type": "markdown",
      "source": [
        "#DIVISÃO: Resto ou Quociente"
      ],
      "metadata": {
        "id": "gYuxt5Z2Mom9"
      }
    },
    {
      "cell_type": "code",
      "source": [
        "num = int(input('digite o valor inteiro'))\n",
        "print(type(num))\n",
        "quoc = num // 2\n",
        "resto = num % 2\n",
        "print(quoc)\n",
        "print(resto)\n"
      ],
      "metadata": {
        "colab": {
          "base_uri": "https://localhost:8080/"
        },
        "id": "y2O_OrvaK9pl",
        "outputId": "1aefcc00-12d5-4c6d-9038-b63e7d6b8ba0"
      },
      "execution_count": null,
      "outputs": [
        {
          "output_type": "stream",
          "name": "stdout",
          "text": [
            "digite o valor inteiro87\n",
            "<class 'int'>\n",
            "43\n",
            "1\n"
          ]
        }
      ]
    },
    {
      "cell_type": "markdown",
      "source": [
        "#EXERCÍCIO"
      ],
      "metadata": {
        "id": "EltJTIxfPFxv"
      }
    },
    {
      "cell_type": "code",
      "source": [
        "#CALCULAR A ÁREA DE UM TRIANGULO\n",
        "\n",
        "b = float(input('Digite o valor da base:'))\n",
        "h = float(input('Digite o valor da altura:'))\n",
        "a = b*h / 2\n",
        "\n",
        "#EXIBIR RESULTADO\n",
        "\n",
        "print('O valor da área é',a)"
      ],
      "metadata": {
        "colab": {
          "base_uri": "https://localhost:8080/"
        },
        "id": "VcOUJll0M4VX",
        "outputId": "fd383e4c-639f-4526-c8dc-1a31a913834d"
      },
      "execution_count": null,
      "outputs": [
        {
          "output_type": "stream",
          "name": "stdout",
          "text": [
            "Digite o valor da base:8\n",
            "Digite o valor da altura:4\n",
            "O valor da área é 16.0\n"
          ]
        }
      ]
    },
    {
      "cell_type": "markdown",
      "source": [
        "#VALOR DE POLEGADA PARA mm"
      ],
      "metadata": {
        "id": "PvSOORiR-uxz"
      }
    },
    {
      "cell_type": "code",
      "source": [
        "#Polegada para mm\n",
        "\n",
        "P = float(input('Polegada:'))\n",
        "mm = P*25.4\n",
        "print('O valor de',P,'polegadas é igual a',mm,'mm')\n"
      ],
      "metadata": {
        "colab": {
          "base_uri": "https://localhost:8080/"
        },
        "id": "QQxiCysE-587",
        "outputId": "7ee3cb5b-9837-4d55-aa5e-592204b9eb5e"
      },
      "execution_count": null,
      "outputs": [
        {
          "output_type": "stream",
          "name": "stdout",
          "text": [
            "Polegada:5\n",
            "O valor de 5.0 polegadas é igual a 127.0 mm\n"
          ]
        }
      ]
    },
    {
      "cell_type": "markdown",
      "source": [
        "#EXERCÍCIOS   "
      ],
      "metadata": {
        "id": "2kez1qiXCkSs"
      }
    },
    {
      "cell_type": "code",
      "source": [
        "#EXERCÍCIO 5\n",
        "\n",
        "import math as n\n",
        "r = float(input('Digite o raio da esfera:'))\n",
        "Ve = 4/3*3.14*n.pow(r,3)\n",
        "print('O valor do volume é:',Ve)\n"
      ],
      "metadata": {
        "colab": {
          "base_uri": "https://localhost:8080/"
        },
        "id": "yuUfsiTkCqp7",
        "outputId": "fcf27464-3cbb-4720-e03b-04f1fb6b058e"
      },
      "execution_count": null,
      "outputs": [
        {
          "output_type": "stream",
          "name": "stdout",
          "text": [
            "Digite o raio da esfera:2\n",
            "O valor do volume é: 33.49333333333333\n"
          ]
        }
      ]
    },
    {
      "cell_type": "code",
      "source": [
        "#EXERCÍCIO 6\n",
        "\n",
        "import math as n\n",
        "G = float(input('Grau:'))\n",
        "rad = (n.pi/180)*G\n",
        "print('Para',str(G)+'°, se tem',rad,'rad')\n",
        "\n",
        "print(str(G)+'°')\n"
      ],
      "metadata": {
        "colab": {
          "base_uri": "https://localhost:8080/"
        },
        "id": "p4x7qwvJEyvq",
        "outputId": "5e576b0b-f489-4644-9c4c-cee0494ae19a"
      },
      "execution_count": null,
      "outputs": [
        {
          "output_type": "stream",
          "name": "stdout",
          "text": [
            "Grau:1\n",
            "Para 1.0°, se tem 0.017453292519943295 rad\n",
            "1.0°\n"
          ]
        }
      ]
    },
    {
      "cell_type": "markdown",
      "source": [
        "Para deixar o print junto (sem espaço), usa-se \"str(x)+'resto\"\n"
      ],
      "metadata": {
        "id": "NhCPbQtaKPtu"
      }
    },
    {
      "cell_type": "markdown",
      "source": [
        "EXEMPLO: print('Para',str(G)+'°')"
      ],
      "metadata": {
        "id": "DuTxf7_xLBn4"
      }
    },
    {
      "cell_type": "code",
      "source": [
        "#EXERCÍCIO 7\n",
        "\n",
        "import math as n\n",
        "rad = float(input('Radianos:'))\n",
        "G = 180/(n.pi*rad)\n",
        "print('Para',rad,'rad, se tem',str(G)+'°')"
      ],
      "metadata": {
        "colab": {
          "base_uri": "https://localhost:8080/"
        },
        "id": "S5pzTQZoIMnx",
        "outputId": "99f9be3d-338a-4627-ec75-baa7ad1a2069"
      },
      "execution_count": null,
      "outputs": [
        {
          "output_type": "stream",
          "name": "stdout",
          "text": [
            "Radianos:1\n",
            "Para 1.0 rad, se tem 57.29577951308232°\n"
          ]
        }
      ]
    },
    {
      "cell_type": "code",
      "source": [
        "#EXERCÍCIO 8\n",
        "\n",
        "import math as n\n",
        "rad = float(input('Radianos:'))\n",
        "GR = (2*n.pi*rad)/400\n",
        "print('Para',rad,'rad, se tem',GR,'Grados')"
      ],
      "metadata": {
        "colab": {
          "base_uri": "https://localhost:8080/"
        },
        "id": "UqgpK0rSLLUj",
        "outputId": "5f44254f-c1c4-4db6-8990-168259dfad49"
      },
      "execution_count": null,
      "outputs": [
        {
          "output_type": "stream",
          "name": "stdout",
          "text": [
            "Radianos:2\n",
            "Para 2.0 rad, se tem 0.031415926535897934 Grados\n"
          ]
        }
      ]
    },
    {
      "cell_type": "markdown",
      "source": [
        "#IF, AND e ELSE\n",
        "#EXEMPLOS"
      ],
      "metadata": {
        "id": "NFnvrQ7j3DXJ"
      }
    },
    {
      "cell_type": "code",
      "source": [
        "# VERIFICAR SE É IMPAR OU PAR\n",
        "\n",
        "n = int(input('Digite um número:'))\n",
        "if n % 2 == 0:\n",
        "  print('É par')\n",
        "else:\n",
        "  print('É ímpar')"
      ],
      "metadata": {
        "colab": {
          "base_uri": "https://localhost:8080/"
        },
        "id": "DQC5o8XJCq14",
        "outputId": "7b3281ef-f525-4fe6-a102-7a2116bc515c"
      },
      "execution_count": null,
      "outputs": [
        {
          "output_type": "stream",
          "name": "stdout",
          "text": [
            "Digite um número:9\n",
            "É ímpar\n"
          ]
        }
      ]
    },
    {
      "cell_type": "code",
      "source": [
        "# VALOR DA RAIZ QUADRADA\n",
        "\n",
        "import math as m\n",
        "\n",
        "n = float(input('Digite um número:'))\n",
        "if n >= 0:\n",
        "  print('A raiz quadrada é:',m.sqrt(n))\n",
        "else:\n",
        "  print('Número inválido')"
      ],
      "metadata": {
        "id": "6zEvVjJhDxrZ"
      },
      "execution_count": null,
      "outputs": []
    },
    {
      "cell_type": "code",
      "source": [
        "# EXERCÍCIO 5\n",
        "\n",
        "c = float(input('Comp. da camiseta:'))\n",
        "l = float(input('Larg. da camiseta:'))\n",
        "\n",
        "if c <= 66 and l <= 50:\n",
        "  T = 'PP'\n",
        "if c <= 70 and l <= 54:\n",
        "  T = 'P'\n",
        "if c <= 72 and l <= 56:\n",
        "  T = 'M'\n",
        "if c <= 74 and l <= 58:\n",
        "  T = 'G'\n",
        "if c <= 76 and l <= 60:\n",
        "  T = 'GG'\n",
        "if c <= 79 and l <= 63:\n",
        "  T = 'XGG'\n",
        "print('Tamanho:',T)"
      ],
      "metadata": {
        "id": "9MHQK5ZOEWRB"
      },
      "execution_count": null,
      "outputs": []
    },
    {
      "cell_type": "markdown",
      "source": [
        "# EXERCÍCIOS COMPLEMENTARES"
      ],
      "metadata": {
        "id": "EEOZIaNXPRiS"
      }
    },
    {
      "cell_type": "code",
      "source": [
        "# EXERCÍCIOS COMPLEMENTARES - AULA 2 - EXERCÍCIO 1\n",
        "\n",
        "x = int(input('Digite o valor de x:'))\n",
        "\n",
        "if x %3 == 0:\n",
        "  print('É divisível por 3')\n",
        "else:\n",
        "  print('Não é divisível por 3')\n"
      ],
      "metadata": {
        "colab": {
          "base_uri": "https://localhost:8080/"
        },
        "id": "nj5FX7dqMi2Q",
        "outputId": "25139aea-957f-4358-d73d-f59f1048c4d2"
      },
      "execution_count": 4,
      "outputs": [
        {
          "output_type": "stream",
          "name": "stdout",
          "text": [
            "Digite o valor de x:4\n",
            "Não é divisível por 3\n"
          ]
        }
      ]
    },
    {
      "cell_type": "code",
      "source": [
        "# EXERCÍCIO 2\n",
        "\n",
        "a = float(input('Digite o valor da nota 1:'))\n",
        "b = float(input('Digite o valor da nota 2:'))\n",
        "\n",
        "M = (a*2 + b*3) / (2+3)\n",
        "if M >= 5:\n",
        "  print('APROVADO: Média =',M)\n",
        "else:\n",
        "  print('REPROVADO: Média =',M)"
      ],
      "metadata": {
        "colab": {
          "base_uri": "https://localhost:8080/"
        },
        "id": "05PmiQgRNOfc",
        "outputId": "860a3c39-f7fa-4b23-bf06-167bcfdcc0ea"
      },
      "execution_count": 14,
      "outputs": [
        {
          "output_type": "stream",
          "name": "stdout",
          "text": [
            "Digite o valor da nota 1:7\n",
            "Digite o valor da nota 2:9\n",
            "APROVADO: Média = 8.2\n"
          ]
        }
      ]
    },
    {
      "cell_type": "code",
      "source": [
        "#EXERCÍCIO 3\n",
        "\n",
        "a = float(input('Digite o valor de a:'))\n",
        "b = float(input('Digite o valor de b:'))\n",
        "c = float(input('Digite o valor de c:'))\n",
        "\n",
        "if a <= b and a <= c:\n",
        "  print('O menor número é',a)\n",
        "if b <= a and b <= c:\n",
        "  print('O menor número é',b)\n",
        "if c <= a and c <= b:\n",
        "  print('O menor número é',c)\n"
      ],
      "metadata": {
        "colab": {
          "base_uri": "https://localhost:8080/"
        },
        "id": "wMuxAWvhOVLL",
        "outputId": "2958aa86-2c90-4571-db03-f39720352c54"
      },
      "execution_count": 13,
      "outputs": [
        {
          "output_type": "stream",
          "name": "stdout",
          "text": [
            "Digite o valor de a:27\n",
            "Digite o valor de b:49\n",
            "Digite o valor de c:82\n",
            "O menor número é 27.0\n"
          ]
        }
      ]
    },
    {
      "cell_type": "markdown",
      "source": [
        "# Loop FOR"
      ],
      "metadata": {
        "id": "T6m9vx7TWYwp"
      }
    },
    {
      "cell_type": "code",
      "source": [
        "# CONTAGEM DE 1 Á 5 E EXIBIÇÃO DOS VALORES\n",
        "# for VARIÁVEL in range(início, termino, passo)\n",
        "for i in range(1,6):\n",
        "  print(i)"
      ],
      "metadata": {
        "id": "Hf0WnK3LWb0a",
        "outputId": "82b4ac35-716e-4366-9f35-316644c24f2b",
        "colab": {
          "base_uri": "https://localhost:8080/"
        }
      },
      "execution_count": 17,
      "outputs": [
        {
          "output_type": "stream",
          "name": "stdout",
          "text": [
            "1\n",
            "2\n",
            "3\n",
            "4\n",
            "5\n"
          ]
        }
      ]
    }
  ]
}